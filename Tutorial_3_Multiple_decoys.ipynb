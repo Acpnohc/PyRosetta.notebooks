{
 "cells": [
  {
   "cell_type": "markdown",
   "metadata": {},
   "source": [
    "### PyRosettaCluster \n",
    "## Tutorial 3. Multiple decoys\n",
    "\n",
    "Tutorial 3 demonstrates various ways to efficiently run protocols multiple times. \n",
    "\n",
    "Parallelization can be accomplished by passing multiple tasks to PyRosettaCluster and/or PyRosettaCluster's `nstruct` argument. \n",
    "\n",
    "In addition, protocols can `yield` or `return` multiple `Pose` objects."
   ]
  },
  {
   "cell_type": "markdown",
   "metadata": {},
   "source": [
    "### 1. Import packages"
   ]
  },
  {
   "cell_type": "code",
   "execution_count": 1,
   "metadata": {},
   "outputs": [
    {
     "data": {
      "text/html": [
       "<style>.container { width:100% !important; }</style>"
      ],
      "text/plain": [
       "<IPython.core.display.HTML object>"
      ]
     },
     "metadata": {},
     "output_type": "display_data"
    }
   ],
   "source": [
    "import bz2\n",
    "import glob\n",
    "import json\n",
    "import logging\n",
    "logging.basicConfig(level=logging.INFO)\n",
    "import os\n",
    "import pyrosetta\n",
    "import pyrosetta.distributed.io as io\n",
    "import pyrosetta.distributed.packed_pose as packed_pose\n",
    "import pyrosetta.distributed.tasks.rosetta_scripts as rosetta_scripts\n",
    "import pyrosetta.distributed.tasks.score as score\n",
    "import pyrosetta.distributed.viewer as viewer\n",
    "import random\n",
    "import tempfile\n",
    "\n",
    "from pyrosettacluster import PyRosettaCluster, get_instance_kwargs, reproduce"
   ]
  },
  {
   "cell_type": "markdown",
   "metadata": {},
   "source": [
    "### 2. Initialize a compute cluster using `dask`\n",
    "\n",
    "1. Click the \"Dask\" tab in Jupyter Lab <i>(arrow, left)</i>\n",
    "2. Click the \"+ NEW\" button to launch a new compute cluster <i>(arrow, lower)</i>\n",
    "\n",
    "![title](images/dask_labextension_1.png)\n",
    "\n",
    "3. Once the cluster has started, click the brackets to \"inject client code\" for the cluster into your notebook\n",
    "\n",
    "![title](images/dask_labextension_2.png)\n",
    "\n",
    "Inject client code here, then run the cell:"
   ]
  },
  {
   "cell_type": "code",
   "execution_count": 2,
   "metadata": {},
   "outputs": [
    {
     "data": {
      "text/html": [
       "<table style=\"border: 2px solid white;\">\n",
       "<tr>\n",
       "<td style=\"vertical-align: top; border: 0px solid white\">\n",
       "<h3 style=\"text-align: left;\">Client</h3>\n",
       "<ul style=\"text-align: left; list-style: none; margin: 0; padding: 0;\">\n",
       "  <li><b>Scheduler: </b>tcp://127.0.0.1:45657</li>\n",
       "  <li><b>Dashboard: </b><a href='http://127.0.0.1:8787/status' target='_blank'>http://127.0.0.1:8787/status</a>\n",
       "</ul>\n",
       "</td>\n",
       "<td style=\"vertical-align: top; border: 0px solid white\">\n",
       "<h3 style=\"text-align: left;\">Cluster</h3>\n",
       "<ul style=\"text-align: left; list-style:none; margin: 0; padding: 0;\">\n",
       "  <li><b>Workers: </b>4</li>\n",
       "  <li><b>Cores: </b>4</li>\n",
       "  <li><b>Memory: </b>16.63 GB</li>\n",
       "</ul>\n",
       "</td>\n",
       "</tr>\n",
       "</table>"
      ],
      "text/plain": [
       "<Client: 'tcp://127.0.0.1:45657' processes=4 threads=4, memory=16.63 GB>"
      ]
     },
     "execution_count": 2,
     "metadata": {},
     "output_type": "execute_result"
    }
   ],
   "source": [
    "from dask.distributed import Client\n",
    "\n",
    "client = Client(\"tcp://127.0.0.1:45657\")\n",
    "client"
   ]
  },
  {
   "cell_type": "markdown",
   "metadata": {},
   "source": [
    "### 3. Define the user-provided paths:"
   ]
  },
  {
   "cell_type": "code",
   "execution_count": 3,
   "metadata": {},
   "outputs": [],
   "source": [
    "my_PyRosettaCluster_git_repo = '/shared/home/aloshbaugh/PyRosettaCluster'\n",
    "\n",
    "in_dir = os.path.join(my_PyRosettaCluster_git_repo, 'tutorials/input')\n",
    "work_dir = os.path.join( \n",
    "    my_PyRosettaCluster_git_repo, \n",
    "    'tutorials/3_Multiple_decoys' )"
   ]
  },
  {
   "cell_type": "markdown",
   "metadata": {},
   "source": [
    "### 4. A protocol that returns multiple poses\n",
    "\n",
    "PyRosettaCluster automatically passes poses through protocols supplied by the user. If a protocol produces `n` poses, the subsequent protocol runs `n` times, once for each pose. `Pose` objects returned by the final protocol are written to disk.\n",
    "\n",
    "Multiple poses can be yielded iteratively, or returned as list or comma-separated:\n",
    "\n",
    "Yield:\n",
    "\n",
    "    for _ in range(n_results):\n",
    "        yield backrub(ppose.pose.clone())\n",
    "\n",
    "Return list:\n",
    "\n",
    "    return list_of_poses\n",
    "\n",
    "Return comma-separated:\n",
    "\n",
    "    return pose1, pose2, pose3\n"
   ]
  },
  {
   "cell_type": "code",
   "execution_count": 4,
   "metadata": {},
   "outputs": [],
   "source": [
    "def protocol1(packed_pose_in=None, **kwargs):\n",
    "    \"\"\"\n",
    "    Performs backrub on a pose, which can be (a) input to the function or \n",
    "    (b) accessed through kwargs 's' argument.\n",
    "    \n",
    "    Args:\n",
    "        packed_pose: A `PackedPose` object. Optional.\n",
    "        **kwargs: PyRosettaCluster keyword arguments.\n",
    "\n",
    "    Returns:\n",
    "        Multiple `PackedPose` objects.\n",
    "    \"\"\"\n",
    "    import pyrosetta\n",
    "    import pyrosetta.distributed.io as io\n",
    "    import pyrosetta.distributed.tasks.rosetta_scripts as rosetta_scripts\n",
    "    \n",
    "    input_protocol = \"\"\"\n",
    "        <ROSETTASCRIPTS>\n",
    "          <MOVERS>\n",
    "            <Backrub \n",
    "              name=\"backrub\" \n",
    "              pivot_residues=\"22A,23A,24A,25A,26A,27A\" \n",
    "            />\n",
    "          </MOVERS>\n",
    "          <PROTOCOLS>\n",
    "            <Add mover=\"backrub\"/>\n",
    "          </PROTOCOLS>\n",
    "        </ROSETTASCRIPTS>\n",
    "        \"\"\"\n",
    "    backrub = rosetta_scripts.SingleoutputRosettaScriptsTask(input_protocol)\n",
    "    \n",
    "    if packed_pose_in == None:\n",
    "        packed_pose_in = io.pose_from_file(kwargs['s'])\n",
    "    \n",
    "    n_results = 3\n",
    "    for _ in range(n_results):\n",
    "        yield backrub(packed_pose_in.pose.clone())\n",
    "\n",
    "\n",
    "def protocol2(packed_pose_in, **kwargs):\n",
    "    \"\"\"\n",
    "    Performs sequence design (Thr24-->ALLAAxc) an input pose (Top7, pdb:1qys).\n",
    "    \n",
    "    Args:\n",
    "        ppose: A `PackedPose` object to be designed.\n",
    "        **kwargs: PyRosettaCluster keyword arguments.\n",
    "\n",
    "    Returns:\n",
    "        A `PackedPose` object that has been designed.\n",
    "    \"\"\"\n",
    "    import pyrosetta\n",
    "    import pyrosetta.distributed.tasks.rosetta_scripts as rosetta_scripts\n",
    "\n",
    "    input_protocol = \"\"\"\n",
    "        <ROSETTASCRIPTS>\n",
    "          <RESIDUE_SELECTORS>\n",
    "            <Index name=\"T24\" resnums=\"24A\" />\n",
    "            <Not name=\"not24\" selector=\"T24\" />\n",
    "          </RESIDUE_SELECTORS>\n",
    "          <TASKOPERATIONS>\n",
    "            <ResfileCommandOperation \n",
    "              name=\"T24_ALLAA\" command=\"ALLAAxc\" residue_selector=\"T24\"/>\n",
    "            <OperateOnResidueSubset name=\"restrict_others\" selector=\"not24\">\n",
    "              <PreventRepackingRLT/>\n",
    "            </OperateOnResidueSubset>\n",
    "          </TASKOPERATIONS>\n",
    "          <MOVERS>\n",
    "            <PackRotamersMover \n",
    "              name=\"design_mover\" task_operations=\"T24_ALLAA,restrict_others\" \n",
    "            />\n",
    "          </MOVERS>\n",
    "          <PROTOCOLS>\n",
    "            <Add mover=\"design_mover\"/>\n",
    "          </PROTOCOLS>\n",
    "        </ROSETTASCRIPTS>\n",
    "        \"\"\"\n",
    "    \n",
    "    design_protocol = rosetta_scripts.SingleoutputRosettaScriptsTask(input_protocol)\n",
    "    packed_pose_out = design_protocol(packed_pose_in.pose.clone())\n",
    "    \n",
    "    return packed_pose_out"
   ]
  },
  {
   "cell_type": "markdown",
   "metadata": {},
   "source": [
    "### 5. Define the user-provided kwargs:\n",
    "\n",
    "Returning multiple dictionaries allows the user to run the first protocol multiple times on different inputs. While this example simply passes the same PDB twice, you can imagine using this option to cycle through different input pdbs."
   ]
  },
  {
   "cell_type": "code",
   "execution_count": 5,
   "metadata": {},
   "outputs": [],
   "source": [
    "dictionary_of_options = {\n",
    "    \"-out:level\":\"300\",\n",
    "    \"-multithreading:total_threads\":\"1\",\n",
    "}\n",
    "\n",
    "def create_tasks():\n",
    "    return [ \n",
    "        {\n",
    "            \"options\": \"-ex1\",\n",
    "            \"extra_options\":dictionary_of_options,\n",
    "            \"s\":os.path.join(in_dir, '1QYS.pdb'),\n",
    "        }, \n",
    "        {\n",
    "            \"options\": \"-ex1\",\n",
    "            \"extra_options\":dictionary_of_options,\n",
    "            \"s\":os.path.join(in_dir, '1QYS.pdb'),\n",
    "        }, \n",
    "    ]"
   ]
  },
  {
   "cell_type": "markdown",
   "metadata": {},
   "source": [
    "### 6. Launch the original simulation using `distribute()`\n",
    "\n",
    "The protocol produces a decoy, which we will reproduce at a later step.\n",
    "\n",
    "In this example we use the `PyRosettaCluster` `nstruct` argument. `nstruct` is an `int` object specifying the number of repeats of the first user-provided PyRosetta protocol."
   ]
  },
  {
   "cell_type": "code",
   "execution_count": 11,
   "metadata": {},
   "outputs": [],
   "source": [
    "protocols = [protocol1, protocol2, protocol1]\n",
    "\n",
    "PyRosettaCluster(\n",
    "    tasks=create_tasks,\n",
    "    client=client,\n",
    "    scratch_dir=work_dir,\n",
    "    output_path=work_dir,\n",
    "    nstruct=2\n",
    ").distribute(protocols=protocols)"
   ]
  },
  {
   "cell_type": "markdown",
   "metadata": {},
   "source": [
    "While jobs are running, you may monitor their progress using the dask dashboard diagnostics within Jupyter Lab!"
   ]
  },
  {
   "cell_type": "markdown",
   "metadata": {},
   "source": [
    "In the \"Dask\" tab, click the various diagnostic tools _(arrows)_ to open new tabs:"
   ]
  },
  {
   "cell_type": "markdown",
   "metadata": {},
   "source": [
    "![title](images/dask_labextension_4.png)"
   ]
  },
  {
   "cell_type": "markdown",
   "metadata": {},
   "source": [
    "Arrange the diagnostic tool tabs within Jupyter Lab how you best see fit by clicking and dragging them:"
   ]
  },
  {
   "cell_type": "markdown",
   "metadata": {},
   "source": [
    "![title](images/dask_labextension_3.png)"
   ]
  },
  {
   "cell_type": "markdown",
   "metadata": {},
   "source": [
    "### 7. Visualize the resultant decoy"
   ]
  },
  {
   "cell_type": "markdown",
   "metadata": {},
   "source": [
    "Gather pose from disk into memory:"
   ]
  },
  {
   "cell_type": "code",
   "execution_count": 12,
   "metadata": {},
   "outputs": [],
   "source": [
    "results = glob.glob(os.path.join(work_dir, \"decoys/*/*.pdb.bz2\"))\n",
    "packed_poses = []\n",
    "for bz2file in results:\n",
    "    with open(bz2file, \"rb\") as f:\n",
    "        packed_poses.append(\n",
    "            io.pose_from_pdbstring(bz2.decompress(f.read()).decode())\n",
    "        )"
   ]
  },
  {
   "cell_type": "markdown",
   "metadata": {},
   "source": [
    "View the pose in memory. \n",
    "\n",
    "Your designed Top7 (1qys) is shown in rainbow ribbon, with side chains in white sticks. The default view shows position 24 at top middle with blue ribbon. Backbone flexibility was modeled at positions 22-27, and position 24 was allowed to design to any amino acid except cysteine.\n",
    "\n",
    "There are 36 result poses: 2 (kwargs) x 2 (nstruct) x 3 (protocol1) x 1 (protocol2) x 3 (protocol1)\n",
    "\n",
    "Click and drag to rotate, zoom in and out w/ mouse scroll."
   ]
  },
  {
   "cell_type": "code",
   "execution_count": 14,
   "metadata": {},
   "outputs": [
    {
     "data": {
      "text/html": [
       "<script>$('.output_scroll').removeClass('output_scroll')</script>"
      ],
      "text/plain": [
       "<IPython.core.display.HTML object>"
      ]
     },
     "metadata": {},
     "output_type": "display_data"
    },
    {
     "data": {
      "text/html": [
       "<script>$('.output_scroll').removeClass('output_scroll')</script>"
      ],
      "text/plain": [
       "<IPython.core.display.HTML object>"
      ]
     },
     "metadata": {},
     "output_type": "display_data"
    },
    {
     "data": {
      "text/html": [
       "<script>$('.output_scroll').removeClass('output_scroll')</script>"
      ],
      "text/plain": [
       "<IPython.core.display.HTML object>"
      ]
     },
     "metadata": {},
     "output_type": "display_data"
    },
    {
     "data": {
      "text/html": [
       "<script>$('.output_scroll').removeClass('output_scroll')</script>"
      ],
      "text/plain": [
       "<IPython.core.display.HTML object>"
      ]
     },
     "metadata": {},
     "output_type": "display_data"
    },
    {
     "data": {
      "text/html": [
       "<script>$('.output_scroll').removeClass('output_scroll')</script>"
      ],
      "text/plain": [
       "<IPython.core.display.HTML object>"
      ]
     },
     "metadata": {},
     "output_type": "display_data"
    },
    {
     "data": {
      "text/html": [
       "<script>$('.output_scroll').removeClass('output_scroll')</script>"
      ],
      "text/plain": [
       "<IPython.core.display.HTML object>"
      ]
     },
     "metadata": {},
     "output_type": "display_data"
    },
    {
     "data": {
      "application/vnd.jupyter.widget-view+json": {
       "model_id": "20cc7f02f0ae4c9daac07c8a8583f1d9",
       "version_major": 2,
       "version_minor": 0
      },
      "text/plain": [
       "interactive(children=(IntSlider(value=0, continuous_update=False, description='Decoys', max=35), Output()), _d…"
      ]
     },
     "metadata": {},
     "output_type": "display_data"
    },
    {
     "data": {
      "text/plain": [
       "<function pyrosetta.distributed.viewer.core.Viewer.show.<locals>.view(i=0)>"
      ]
     },
     "execution_count": 14,
     "metadata": {},
     "output_type": "execute_result"
    }
   ],
   "source": [
    "view = viewer.init(packed_poses, window_size=(800, 600))\n",
    "view.add(viewer.setStyle())\n",
    "view.add(viewer.setStyle(colorscheme=\"whiteCarbon\", radius=0.25))\n",
    "view.add(viewer.setHydrogenBonds())\n",
    "view.add(viewer.setHydrogens(polar_only=True))\n",
    "view.add(viewer.setDisulfides(radius=0.25))\n",
    "view()"
   ]
  },
  {
   "cell_type": "markdown",
   "metadata": {},
   "source": [
    "### Congrats! \n",
    "You have successfully run a multi-protocol Rosetta trajectory using `PyRosettaCluster`! This ends Tutorial 3."
   ]
  },
  {
   "cell_type": "code",
   "execution_count": null,
   "metadata": {},
   "outputs": [],
   "source": []
  }
 ],
 "metadata": {
  "kernelspec": {
   "display_name": "Python (jupyterlab)",
   "language": "python",
   "name": "jupyterlab"
  },
  "language_info": {
   "codemirror_mode": {
    "name": "ipython",
    "version": 3
   },
   "file_extension": ".py",
   "mimetype": "text/x-python",
   "name": "python",
   "nbconvert_exporter": "python",
   "pygments_lexer": "ipython3",
   "version": "3.7.3"
  }
 },
 "nbformat": 4,
 "nbformat_minor": 4
}
