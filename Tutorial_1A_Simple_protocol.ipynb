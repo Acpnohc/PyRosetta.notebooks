{
 "cells": [
  {
   "cell_type": "markdown",
   "metadata": {},
   "source": [
    "### PyRosettaCluster \n",
    "## Tutorial 1A. Simple protocol\n",
    "\n",
    "Tutorial 1A is a Jupyter Lab that generates a decoy using PyRosettaCluster. It is the simplest use case, where one protocol takes one input pdb file and returns one output pdb file. \n",
    "\n",
    "The information needed to reproduce the simulation is included in the result pdb file. Tutorial 1B reproduces Tutorial 1A."
   ]
  },
  {
   "cell_type": "markdown",
   "metadata": {},
   "source": [
    "### 1. Import packages"
   ]
  },
  {
   "cell_type": "code",
   "execution_count": 1,
   "metadata": {},
   "outputs": [
    {
     "data": {
      "text/html": [
       "<style>.container { width:100% !important; }</style>"
      ],
      "text/plain": [
       "<IPython.core.display.HTML object>"
      ]
     },
     "metadata": {},
     "output_type": "display_data"
    }
   ],
   "source": [
    "import bz2\n",
    "import glob\n",
    "import json\n",
    "import logging\n",
    "logging.basicConfig(level=logging.INFO)\n",
    "import os\n",
    "import pyrosetta\n",
    "import pyrosetta.distributed.io as io\n",
    "import pyrosetta.distributed.packed_pose as packed_pose\n",
    "import pyrosetta.distributed.tasks.rosetta_scripts as rosetta_scripts\n",
    "import pyrosetta.distributed.tasks.score as score\n",
    "import pyrosetta.distributed.viewer as viewer\n",
    "import random\n",
    "import tempfile\n",
    "\n",
    "from pyrosettacluster import PyRosettaCluster, get_instance_kwargs, reproduce"
   ]
  },
  {
   "cell_type": "markdown",
   "metadata": {},
   "source": [
    "### 2. Initialize a compute cluster using `dask`\n",
    "\n",
    "1. Click the \"Dask\" tab in Jupyter Lab <i>(arrow, left)</i>\n",
    "2. Click the \"+ NEW\" button to launch a new compute cluster <i>(arrow, lower)</i>\n",
    "\n",
    "![title](images/dask_labextension_1.png)\n",
    "\n",
    "3. Once the cluster has started, click the brackets to \"inject client code\" for the cluster into your notebook\n",
    "\n",
    "![title](images/dask_labextension_2.png)\n",
    "\n",
    "Inject client code here, then run the cell:"
   ]
  },
  {
   "cell_type": "code",
   "execution_count": 2,
   "metadata": {},
   "outputs": [
    {
     "data": {
      "text/html": [
       "<table style=\"border: 2px solid white;\">\n",
       "<tr>\n",
       "<td style=\"vertical-align: top; border: 0px solid white\">\n",
       "<h3 style=\"text-align: left;\">Client</h3>\n",
       "<ul style=\"text-align: left; list-style: none; margin: 0; padding: 0;\">\n",
       "  <li><b>Scheduler: </b>tcp://127.0.0.1:45657</li>\n",
       "  <li><b>Dashboard: </b><a href='http://127.0.0.1:8787/status' target='_blank'>http://127.0.0.1:8787/status</a>\n",
       "</ul>\n",
       "</td>\n",
       "<td style=\"vertical-align: top; border: 0px solid white\">\n",
       "<h3 style=\"text-align: left;\">Cluster</h3>\n",
       "<ul style=\"text-align: left; list-style:none; margin: 0; padding: 0;\">\n",
       "  <li><b>Workers: </b>4</li>\n",
       "  <li><b>Cores: </b>4</li>\n",
       "  <li><b>Memory: </b>16.63 GB</li>\n",
       "</ul>\n",
       "</td>\n",
       "</tr>\n",
       "</table>"
      ],
      "text/plain": [
       "<Client: 'tcp://127.0.0.1:45657' processes=4 threads=4, memory=16.63 GB>"
      ]
     },
     "execution_count": 2,
     "metadata": {},
     "output_type": "execute_result"
    }
   ],
   "source": [
    "from dask.distributed import Client\n",
    "\n",
    "client = Client(\"tcp://127.0.0.1:45657\")\n",
    "client"
   ]
  },
  {
   "cell_type": "markdown",
   "metadata": {},
   "source": [
    "The `client` is actually optional for the `distribute()` and `reproduce()` methods. Supplying client allows you to monitor from within this Jupyter Lab Notebook. \n",
    "\n",
    "If you don't supply a client, `PyRosettaCluster` will instantiate a local cluster, or an SGE cluster if you pass scheduler option, e.g.:\n",
    "\n",
    "    PyRosettaCluster(\n",
    "        ...\n",
    "        scheduler=None,  # Run locally\n",
    "        ...\n",
    "    )\n",
    "    \n",
    "    PyRosettaCluster(\n",
    "        ...\n",
    "        scheduler=your_SGE_scheduler,  # Run on SGE cluster\n",
    "        ...\n",
    "    )"
   ]
  },
  {
   "cell_type": "markdown",
   "metadata": {},
   "source": [
    "### 3. Define the user-provided paths:\n",
    "\n",
    "User provides the location of their PyRosettaCluster git repo:"
   ]
  },
  {
   "cell_type": "code",
   "execution_count": 3,
   "metadata": {},
   "outputs": [],
   "source": [
    "path_to_PyRosettaCluster_git_repo = '/shared/home/aloshbaugh/PyRosettaCluster'\n",
    "\n",
    "in_dir = os.path.join( path_to_PyRosettaCluster_git_repo, 'tutorials/input')\n",
    "work_dir = os.path.join( \n",
    "    path_to_PyRosettaCluster_git_repo, 'tutorials/1A_Simple_protocol'\n",
    ")"
   ]
  },
  {
   "cell_type": "markdown",
   "metadata": {},
   "source": [
    "### 4. Define the user-provided protocol:"
   ]
  },
  {
   "cell_type": "code",
   "execution_count": 4,
   "metadata": {},
   "outputs": [],
   "source": [
    "def protocol1(packed_pose_in=None, **kwargs):\n",
    "    \"\"\"\n",
    "    Repack the input `PackedPose` object.\n",
    "    \n",
    "    Args:\n",
    "        packed_pose_in: A `PackedPose` object to be repacked. Optional.\n",
    "        **kwargs: PyRosettaCluster keyword arguments.\n",
    "\n",
    "    Returns:\n",
    "        A `PackedPose` object.\n",
    "    \"\"\"\n",
    "    import pyrosetta\n",
    "    import pyrosetta.distributed.io as io\n",
    "    import pyrosetta.distributed.tasks.rosetta_scripts as rosetta_scripts\n",
    "    \n",
    "    input_protocol = \"\"\"\n",
    "        <ROSETTASCRIPTS>\n",
    "          <TASKOPERATIONS>\n",
    "            <RestrictToRepacking name=\"only_pack\"/>\n",
    "          </TASKOPERATIONS>\n",
    "          <MOVERS>\n",
    "            <PackRotamersMover name=\"pack\" task_operations=\"only_pack\" />\n",
    "          </MOVERS>\n",
    "          <PROTOCOLS>\n",
    "            <Add mover=\"pack\"/>\n",
    "          </PROTOCOLS>\n",
    "        </ROSETTASCRIPTS>\n",
    "        \"\"\"\n",
    "    pack_rotamers = rosetta_scripts.SingleoutputRosettaScriptsTask(\n",
    "        input_protocol\n",
    "    )\n",
    "    \n",
    "    packed_pose_in = io.pose_from_file(kwargs['s'])\n",
    "    packed_pose_out = pack_rotamers(packed_pose_in.pose.clone())\n",
    "    \n",
    "    return packed_pose_out"
   ]
  },
  {
   "cell_type": "markdown",
   "metadata": {},
   "source": [
    "### 5. Define the user-provided kwargs:\n",
    "`options` and `extra_options` get concatenated eventually before initialization, but specifying `extra_options` will override the default `\"-out:levels all:warning\"`, and specifying options will override the default `\"-ex1 -ex2aro\"`."
   ]
  },
  {
   "cell_type": "code",
   "execution_count": 5,
   "metadata": {},
   "outputs": [],
   "source": [
    "def kwargs_for_tasks():\n",
    "    yield {\n",
    "        \"options\": \"-ex1\",\n",
    "        \"extra_options\":\"-out:level 300 -multithreading:total_threads 1\", \n",
    "        \"s\":os.path.join( in_dir, '1QYS.pdb' ),\n",
    "        }"
   ]
  },
  {
   "cell_type": "markdown",
   "metadata": {},
   "source": [
    "### If you must manipulate your pose outside `PyRosettaCluster`...\n",
    "#### Avoid using `create_tasks()` with `Pose` objects.\n",
    "You might notice that the above code passes the protein structure information to `PyRosettaCluster` as a `string` type location of a file. The `Pose` object \n",
    "is instantiated from that string, within `PyRosettaCluster` and using the random seed which is saved by `PyRosettaCluster`.\n",
    "\n",
    "You may be tempted to instantiate your pose before `PyRosettaCluster`, and pass a `pose` object in the `create_tasks()`. However, in this case Rosetta will be  initiated with a random seed outside `PyRosettaCluster`, and that random seed won't be saved by `PyRosettaCluster`. As a consequence, any action taken on the pose (e.g. filling in missing heavy atoms) will not be reproducible by `PyRosettaCluster` `reproduce()` method.\n",
    "\n",
    "If you must instantiate your pose before `PyRosettaCluster`, the user must supply:\n",
    "\n",
    "    import pyrosetta\n",
    "    pyrosetta.init( \"-run:constant_seed 1\" )\n",
    "    \n",
    "and instantiate `PyRosettaCluster` with additional argument `input_packed_pose`, e.g.:\n",
    "\n",
    "    PyRosettaCluster(\n",
    "        ...\n",
    "        input_packed_pose=input_packed_pose,\n",
    "        ...\n",
    "    )\n",
    "\n",
    "to ensure reproducibility. The `constant_seed` flag defaults to seed `1111111` ([documentation](https://www.rosettacommons.org/docs/latest/rosetta_basics/options/run-options)).\n",
    "\n",
    "For an initialization example, see tutorial 4.\n",
    "\n",
    "In summary, best practice involves giving `create_tasks` information which will be used by the distributed protocol to create a pose within `PyRosettaCluster`. In edge cases, the user may supply a pose and constant seed outside `PyRosettaCluster`."
   ]
  },
  {
   "cell_type": "markdown",
   "metadata": {},
   "source": [
    "### 6. Launch the original simulation using `distribute()`\n",
    "\n",
    "The protocol produces a decoy, which we will reproduce at a later step."
   ]
  },
  {
   "cell_type": "markdown",
   "metadata": {},
   "source": [
    "Running `distribute()` returns line `INFO:pyrosetta.distributed:maybe_init performing pyrosetta initialization: {'options': '-mute all -multithreading:total_threads 1', 'extra_options': '-run:constant_seed 1 -run:jran 1111111', 'set_logging_handler': None, 'notebook': None, 'silent': True}` which may confuse the user about whether the seed is constant or random. This line records initialization with the default constant seed on the master node that controls the worker nodes. The worker nodes run the actual protocols, and each worker node initializes Rosetta with a random seed, which is the seed saved by PyRosettaCluster. The master node is initialized with a constant seed as good practice."
   ]
  },
  {
   "cell_type": "code",
   "execution_count": 6,
   "metadata": {},
   "outputs": [
    {
     "name": "stderr",
     "output_type": "stream",
     "text": [
      "INFO:pyrosetta.distributed:maybe_init performing pyrosetta initialization: {'options': '-mute all -multithreading:total_threads 1', 'extra_options': '-run:constant_seed 1 -run:jran 1111111', 'set_logging_handler': None, 'notebook': None, 'silent': True}\n",
      "INFO:pyrosetta.rosetta:Found rosetta database at: /shared/home/aloshbaugh/.conda/envs/jupyterlab/lib/python3.7/site-packages/pyrosetta/database; using it....\n",
      "INFO:pyrosetta.rosetta:PyRosetta-4 2020 [Rosetta PyRosetta4.conda.linux.cxx11thread.serialization.CentOS.python37.Release 2020.15+release.3121c734db02d2b62dd1974dcb8daface3f50057 2020-04-10T09:29:24] retrieved from: http://www.pyrosetta.org\n",
      "(C) Copyright Rosetta Commons Member Institutions. Created in JHU by Sergey Lyskov and PyRosetta Team.\n",
      "WARNING:root:Warning! A `sha1` attribute was not provided to PyRosettaCluster! It is recommended to provide a valid Github SHA1 hash string to reproduce this simulation later.\n"
     ]
    }
   ],
   "source": [
    "protocols = [protocol1]\n",
    "\n",
    "PyRosettaCluster(\n",
    "    tasks=kwargs_for_tasks,\n",
    "    protocols=protocols,\n",
    "    client=client,\n",
    "    scratch_dir=work_dir,\n",
    "    output_path=work_dir,\n",
    ").distribute(protocols=protocols)"
   ]
  },
  {
   "cell_type": "markdown",
   "metadata": {},
   "source": [
    "While jobs are running, you may monitor their progress using the dask dashboard diagnostics within Jupyter Lab!"
   ]
  },
  {
   "cell_type": "markdown",
   "metadata": {},
   "source": [
    "In the \"Dask\" tab, click the various diagnostic tools _(arrows)_ to open new tabs:"
   ]
  },
  {
   "cell_type": "markdown",
   "metadata": {},
   "source": [
    "![title](images/dask_labextension_4.png)"
   ]
  },
  {
   "cell_type": "markdown",
   "metadata": {},
   "source": [
    "Arrange the diagnostic tool tabs within Jupyter Lab how you best see fit by clicking and dragging them:"
   ]
  },
  {
   "cell_type": "markdown",
   "metadata": {},
   "source": [
    "![title](images/dask_labextension_3.png)"
   ]
  },
  {
   "cell_type": "markdown",
   "metadata": {},
   "source": [
    "### 7. Visualize the resultant decoy"
   ]
  },
  {
   "cell_type": "markdown",
   "metadata": {},
   "source": [
    "Gather pose from disk into memory:"
   ]
  },
  {
   "cell_type": "code",
   "execution_count": 7,
   "metadata": {},
   "outputs": [],
   "source": [
    "results = glob.glob(os.path.join(work_dir, \"decoys/*/*.pdb.bz2\"))\n",
    "packed_poses = []\n",
    "for bz2file in results:\n",
    "    with open(bz2file, \"rb\") as f:\n",
    "        packed_poses.append(io.pose_from_pdbstring(bz2.decompress(f.read()).decode()))"
   ]
  },
  {
   "cell_type": "markdown",
   "metadata": {},
   "source": [
    "View the pose in memory. Click and drag to rotate, zoom in and out w/ mouse scroll."
   ]
  },
  {
   "cell_type": "code",
   "execution_count": 8,
   "metadata": {},
   "outputs": [
    {
     "data": {
      "text/html": [
       "<script>$('.output_scroll').removeClass('output_scroll')</script>"
      ],
      "text/plain": [
       "<IPython.core.display.HTML object>"
      ]
     },
     "metadata": {},
     "output_type": "display_data"
    },
    {
     "data": {
      "text/html": [
       "<script>$('.output_scroll').removeClass('output_scroll')</script>"
      ],
      "text/plain": [
       "<IPython.core.display.HTML object>"
      ]
     },
     "metadata": {},
     "output_type": "display_data"
    },
    {
     "data": {
      "text/html": [
       "<script>$('.output_scroll').removeClass('output_scroll')</script>"
      ],
      "text/plain": [
       "<IPython.core.display.HTML object>"
      ]
     },
     "metadata": {},
     "output_type": "display_data"
    },
    {
     "data": {
      "text/html": [
       "<script>$('.output_scroll').removeClass('output_scroll')</script>"
      ],
      "text/plain": [
       "<IPython.core.display.HTML object>"
      ]
     },
     "metadata": {},
     "output_type": "display_data"
    },
    {
     "data": {
      "text/html": [
       "<script>$('.output_scroll').removeClass('output_scroll')</script>"
      ],
      "text/plain": [
       "<IPython.core.display.HTML object>"
      ]
     },
     "metadata": {},
     "output_type": "display_data"
    },
    {
     "data": {
      "text/html": [
       "<script>$('.output_scroll').removeClass('output_scroll')</script>"
      ],
      "text/plain": [
       "<IPython.core.display.HTML object>"
      ]
     },
     "metadata": {},
     "output_type": "display_data"
    },
    {
     "data": {
      "application/vnd.jupyter.widget-view+json": {
       "model_id": "61300d94ce9d41b9b8f6d3dfcd909c0b",
       "version_major": 2,
       "version_minor": 0
      },
      "text/plain": [
       "interactive(children=(IntSlider(value=0, continuous_update=False, description='Decoys', max=1), Output()), _do…"
      ]
     },
     "metadata": {},
     "output_type": "display_data"
    },
    {
     "data": {
      "text/plain": [
       "<function pyrosetta.distributed.viewer.core.Viewer.show.<locals>.view(i=0)>"
      ]
     },
     "execution_count": 8,
     "metadata": {},
     "output_type": "execute_result"
    }
   ],
   "source": [
    "view = viewer.init(packed_poses, window_size=(800, 600))\n",
    "view.add(viewer.setStyle())\n",
    "view.add(viewer.setStyle(colorscheme=\"whiteCarbon\", radius=0.25))\n",
    "view.add(viewer.setHydrogenBonds())\n",
    "view.add(viewer.setHydrogens(polar_only=True))\n",
    "view.add(viewer.setDisulfides(radius=0.25))\n",
    "view()"
   ]
  },
  {
   "cell_type": "markdown",
   "metadata": {},
   "source": [
    "### Congrats! \n",
    "You have successfully performed a Rosetta simulation using `PyRosettaCluster`! The next tutorial will reproduce this exact simulation."
   ]
  },
  {
   "cell_type": "code",
   "execution_count": null,
   "metadata": {},
   "outputs": [],
   "source": []
  }
 ],
 "metadata": {
  "kernelspec": {
   "display_name": "Python (jupyterlab)",
   "language": "python",
   "name": "jupyterlab"
  },
  "language_info": {
   "codemirror_mode": {
    "name": "ipython",
    "version": 3
   },
   "file_extension": ".py",
   "mimetype": "text/x-python",
   "name": "python",
   "nbconvert_exporter": "python",
   "pygments_lexer": "ipython3",
   "version": "3.7.3"
  }
 },
 "nbformat": 4,
 "nbformat_minor": 4
}
